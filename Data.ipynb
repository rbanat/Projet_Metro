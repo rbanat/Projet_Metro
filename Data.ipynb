{
 "cells": [
  {
   "cell_type": "markdown",
   "id": "6b2d664d",
   "metadata": {},
   "source": [
    "<h1><font color=darkred size=6><center> $\\fbox{Préparation des données}$ </center></h1>"
   ]
  },
  {
   "cell_type": "markdown",
   "id": "e2546cc2",
   "metadata": {},
   "source": [
    "*Ce jupyter notebook ne contient pas notre projet.*<br>\n",
    "*Le contenu de notre projet se trouve dans le fichier intitulé **NOM.ipynb**.*<br>\n",
    "<br>\n",
    "Ce notebook contient le travail préalable que nous avons effectué pour la **préparation de nos données** comme le chargement, le nettoyage, le reformatage et l'organisation de nos données avant de les utiliser pour le projet de statistique et apprentissage pour la prévision.<br>\n",
    "Nos données proviennent de :\n",
    "- <a href=\"https://www.data.gouv.fr/fr/datasets/historique-des-donnees-de-validation-sur-le-reseau-de-surface-2015-2021/\">Historique des données de validation (2015-2021)</a>\n",
    "- <a href=\"https://www.jour-ferie.info/dates-des-fetes-et-jours-feries-en-2022/\">Jours fériés et jours de fête</a>\n",
    "- <a href=\"https://www.cestlagreve.fr/\">Jours de grève</a>\n",
    "- <a href=\"https://vacances-scolaires.education/annee-2021-2022.php\">Vacances scolaires</a>\n",
    "- <a href=\"https://fr.wikipedia.org/wiki/Confinements_li%C3%A9s_%C3%A0_la_pand%C3%A9mie_de_Covid19_en_France#:~:text=du%2017%20mars%20au%2011,non%20inclus%2C%20soit%2028%20jours\">Confinements</a>\n",
    "- <a href=\"https://www.vie-publique.fr/en-bref/277391-covid-19-couvre-feu-18-heures-partir-du-16-janvier\">Couvre-feu</a>\n",
    "\n",
    "\n",
    "\n",
    "⚠️ Il n'y a pas besoin de run ce notebook ! ⚠️<br>\n",
    "(Nous l'avons déjà fait et c'est assez long !)"
   ]
  },
  {
   "cell_type": "markdown",
   "id": "f1bf9fd3",
   "metadata": {},
   "source": [
    "<h3><font color=darkred>Importation des librairies et configuration de l'affichage</h3>"
   ]
  },
  {
   "cell_type": "code",
   "execution_count": 1,
   "id": "4f8f7843",
   "metadata": {},
   "outputs": [],
   "source": [
    "import os\n",
    "import csv\n",
    "import pandas as pd\n",
    "import warnings\n",
    "from datetime import datetime"
   ]
  },
  {
   "cell_type": "code",
   "execution_count": 2,
   "id": "1533a8a1",
   "metadata": {
    "scrolled": false
   },
   "outputs": [],
   "source": [
    "warnings.filterwarnings('ignore')\n",
    "pd.options.display.max_rows = 500\n",
    "pd.options.display.max_columns = None"
   ]
  },
  {
   "cell_type": "markdown",
   "id": "faf9483f",
   "metadata": {},
   "source": [
    "<h3><font color=darkred>Chargement et reformatage des données</h3>"
   ]
  },
  {
   "cell_type": "markdown",
   "id": "bd0800ec",
   "metadata": {},
   "source": [
    "Nous allons reformater nos données brutes de telle sorte à ce qu'elles soient disponibles par année et non plus par semestre (en les concatenant).<br>\n",
    "<br>\n",
    "Lors de ce premier passage, on en profitera pour :\n",
    "- Regrouper le nombre de validation par jour et par arrêt.\n",
    "- Homogénéiser le type de données de la colonne 'NB_VALD' pour avoir uniquement des entiers (remplacer les strings \"Moins de 5\" par 5)"
   ]
  },
  {
   "cell_type": "code",
   "execution_count": 3,
   "id": "297edc98",
   "metadata": {
    "scrolled": false
   },
   "outputs": [],
   "source": [
    "liste_annee = ['2015', '2016', '2017', '2018', '2019', '2020', '2021']"
   ]
  },
  {
   "cell_type": "code",
   "execution_count": 4,
   "id": "d5233813",
   "metadata": {
    "scrolled": false
   },
   "outputs": [
    {
     "name": "stdout",
     "output_type": "stream",
     "text": [
      "2015  ok\n",
      "2016  ok\n",
      "2017  ok\n",
      "2018  ok\n",
      "2019  ok\n",
      "2020  ok\n",
      "2021  ok\n"
     ]
    }
   ],
   "source": [
    "for annee in liste_annee :\n",
    "    \n",
    "    if annee == '2015' :\n",
    "        df1 = pd.read_csv('Frequentation/'+annee+'_S1_NB_FER.csv', sep=';')\n",
    "        df2 = pd.read_csv('Frequentation/'+annee+'_S2_NB_FER.csv', sep=';')\n",
    "    else :\n",
    "        df1 = pd.read_csv('Frequentation/'+annee+'_S1_NB_FER.txt', sep='\\t')\n",
    "        df2 = pd.read_csv('Frequentation/'+annee+'_S2_NB_FER.txt', sep='\\t')\n",
    "        \n",
    "    for i in range(len(df1)): \n",
    "         if df1.loc[i,\"NB_VALD\"] == \"Moins de 5\" :\n",
    "                df1.loc[i,\"NB_VALD\"] = 5\n",
    "\n",
    "    df1 = df1.astype({'NB_VALD': 'int32'})\n",
    "    df1 = df1.groupby(['JOUR', 'LIBELLE_ARRET'])['NB_VALD'].agg('sum')\n",
    "    df1.to_csv(annee+\"_S1.csv\")\n",
    "    \n",
    "    for i in range(len(df2)): \n",
    "         if df2.loc[i,\"NB_VALD\"] == \"Moins de 5\" :\n",
    "                df2.loc[i,\"NB_VALD\"] = 5\n",
    "\n",
    "    df2 = df2.astype({'NB_VALD': 'int32'})\n",
    "    df2 = df2.groupby(['JOUR', 'LIBELLE_ARRET'])['NB_VALD'].agg('sum')\n",
    "    df2.to_csv(annee+\"_S2.csv\")\n",
    "    \n",
    "    df1 = pd.read_csv(annee+\"_S1.csv\")\n",
    "    df2 = pd.read_csv(annee+\"_S2.csv\")\n",
    "    df = pd.concat([df1,df2], ignore_index=True)\n",
    "    df.to_csv(annee+\".csv\")\n",
    "    \n",
    "    os.remove(annee+\"_S1.csv\") \n",
    "    os.remove(annee+\"_S2.csv\")\n",
    "    \n",
    "    print(annee, \" ok\")"
   ]
  },
  {
   "cell_type": "code",
   "execution_count": 5,
   "id": "2532d37f",
   "metadata": {},
   "outputs": [
    {
     "data": {
      "text/html": [
       "<div>\n",
       "<style scoped>\n",
       "    .dataframe tbody tr th:only-of-type {\n",
       "        vertical-align: middle;\n",
       "    }\n",
       "\n",
       "    .dataframe tbody tr th {\n",
       "        vertical-align: top;\n",
       "    }\n",
       "\n",
       "    .dataframe thead th {\n",
       "        text-align: right;\n",
       "    }\n",
       "</style>\n",
       "<table border=\"1\" class=\"dataframe\">\n",
       "  <thead>\n",
       "    <tr style=\"text-align: right;\">\n",
       "      <th></th>\n",
       "      <th>JOUR</th>\n",
       "      <th>LIBELLE_ARRET</th>\n",
       "      <th>NB_VALD</th>\n",
       "    </tr>\n",
       "  </thead>\n",
       "  <tbody>\n",
       "    <tr>\n",
       "      <th>0</th>\n",
       "      <td>01/07/2021</td>\n",
       "      <td>ABBESSES</td>\n",
       "      <td>3207</td>\n",
       "    </tr>\n",
       "    <tr>\n",
       "      <th>1</th>\n",
       "      <td>01/07/2021</td>\n",
       "      <td>ABLON</td>\n",
       "      <td>1574</td>\n",
       "    </tr>\n",
       "    <tr>\n",
       "      <th>2</th>\n",
       "      <td>01/07/2021</td>\n",
       "      <td>ACHERES-GRAND-CORMIER</td>\n",
       "      <td>65</td>\n",
       "    </tr>\n",
       "    <tr>\n",
       "      <th>3</th>\n",
       "      <td>01/07/2021</td>\n",
       "      <td>ACHERES-VILLE</td>\n",
       "      <td>4090</td>\n",
       "    </tr>\n",
       "    <tr>\n",
       "      <th>4</th>\n",
       "      <td>01/07/2021</td>\n",
       "      <td>AEROPORT CHARLES DE GAULLE 1</td>\n",
       "      <td>4578</td>\n",
       "    </tr>\n",
       "  </tbody>\n",
       "</table>\n",
       "</div>"
      ],
      "text/plain": [
       "         JOUR                 LIBELLE_ARRET  NB_VALD\n",
       "0  01/07/2021                      ABBESSES     3207\n",
       "1  01/07/2021                         ABLON     1574\n",
       "2  01/07/2021         ACHERES-GRAND-CORMIER       65\n",
       "3  01/07/2021                 ACHERES-VILLE     4090\n",
       "4  01/07/2021  AEROPORT CHARLES DE GAULLE 1     4578"
      ]
     },
     "execution_count": 5,
     "metadata": {},
     "output_type": "execute_result"
    }
   ],
   "source": [
    "df2.head()"
   ]
  },
  {
   "cell_type": "markdown",
   "id": "3ed9f657",
   "metadata": {},
   "source": [
    "<h3><font color=darkred>Concaténation des bases de données</h3>"
   ]
  },
  {
   "cell_type": "markdown",
   "id": "f5d9be07",
   "metadata": {},
   "source": [
    "Après avoir regroupé nos données par année, nous supprimerons également la colonne \"Unnamed: 0\" de tous les DataFrames puis nous allons les concatener de sorte à avoir un seul et même DataFrame, appelé **df_final**, contenant les informations de toutes les années (de 2015 à 2021).<br>\n",
    "Les fichiers csv intermédiaires contenants les informations par années seront supprimées."
   ]
  },
  {
   "cell_type": "code",
   "execution_count": 6,
   "id": "e51de4a5",
   "metadata": {
    "scrolled": false
   },
   "outputs": [],
   "source": [
    "df_finale = pd.read_csv(\"2015.csv\", sep=\",\").drop(\"Unnamed: 0\", axis=1)\n",
    "os.remove(\"2015.csv\")\n",
    "\n",
    "for annee in liste_annee[1:] :\n",
    "    df_temp = pd.read_csv(annee+\".csv\", sep=\",\").drop(\"Unnamed: 0\", axis=1)\n",
    "    df_finale = pd.concat([df_finale, df_temp], ignore_index=True)\n",
    "    os.remove(annee+\".csv\")"
   ]
  },
  {
   "cell_type": "code",
   "execution_count": 7,
   "id": "bbfcfe56",
   "metadata": {},
   "outputs": [
    {
     "data": {
      "text/html": [
       "<div>\n",
       "<style scoped>\n",
       "    .dataframe tbody tr th:only-of-type {\n",
       "        vertical-align: middle;\n",
       "    }\n",
       "\n",
       "    .dataframe tbody tr th {\n",
       "        vertical-align: top;\n",
       "    }\n",
       "\n",
       "    .dataframe thead th {\n",
       "        text-align: right;\n",
       "    }\n",
       "</style>\n",
       "<table border=\"1\" class=\"dataframe\">\n",
       "  <thead>\n",
       "    <tr style=\"text-align: right;\">\n",
       "      <th></th>\n",
       "      <th>JOUR</th>\n",
       "      <th>LIBELLE_ARRET</th>\n",
       "      <th>NB_VALD</th>\n",
       "    </tr>\n",
       "  </thead>\n",
       "  <tbody>\n",
       "    <tr>\n",
       "      <th>0</th>\n",
       "      <td>01/01/2015</td>\n",
       "      <td>ABBESSES</td>\n",
       "      <td>750</td>\n",
       "    </tr>\n",
       "    <tr>\n",
       "      <th>1</th>\n",
       "      <td>01/01/2015</td>\n",
       "      <td>ABLON</td>\n",
       "      <td>118</td>\n",
       "    </tr>\n",
       "    <tr>\n",
       "      <th>2</th>\n",
       "      <td>01/01/2015</td>\n",
       "      <td>ACHERES-GRAND-CORMIER</td>\n",
       "      <td>18</td>\n",
       "    </tr>\n",
       "    <tr>\n",
       "      <th>3</th>\n",
       "      <td>01/01/2015</td>\n",
       "      <td>ACHERES-VILLE</td>\n",
       "      <td>482</td>\n",
       "    </tr>\n",
       "    <tr>\n",
       "      <th>4</th>\n",
       "      <td>01/01/2015</td>\n",
       "      <td>AEROPORT CHARLES DE GAULLE 1</td>\n",
       "      <td>1257</td>\n",
       "    </tr>\n",
       "  </tbody>\n",
       "</table>\n",
       "</div>"
      ],
      "text/plain": [
       "         JOUR                 LIBELLE_ARRET  NB_VALD\n",
       "0  01/01/2015                      ABBESSES      750\n",
       "1  01/01/2015                         ABLON      118\n",
       "2  01/01/2015         ACHERES-GRAND-CORMIER       18\n",
       "3  01/01/2015                 ACHERES-VILLE      482\n",
       "4  01/01/2015  AEROPORT CHARLES DE GAULLE 1     1257"
      ]
     },
     "execution_count": 7,
     "metadata": {},
     "output_type": "execute_result"
    }
   ],
   "source": [
    "df_finale.head()"
   ]
  },
  {
   "cell_type": "markdown",
   "id": "b6289722",
   "metadata": {},
   "source": [
    "<h3><font color=darkred>Stations Ligne 1</h3>"
   ]
  },
  {
   "cell_type": "markdown",
   "id": "3dacadb7",
   "metadata": {},
   "source": [
    "Dans le cadre de notre projet, nous avons choisi de nous intéresser uniquement aux stations désservies par la ligne 1.<br>\n",
    "<br>\n",
    "Pour ce faire, ne allons conserver que les lignes où la valeur de la colonne \"LIBELLE_ARRET\" correspond à une station de la ligne 1."
   ]
  },
  {
   "cell_type": "code",
   "execution_count": 8,
   "id": "9a647b09",
   "metadata": {},
   "outputs": [],
   "source": [
    "liste_ligne_1 = [\"LA DEFENSE-GRANDE ARCHE\", \"ESPLANADE DE LA DEFENSE\", \"PONT DE NEUILLY (AVENUE DE MADRID)\",\n",
    "                 \"LES SABLONS (JARDIN D'ACCLIMATATION)\", \"PORTE MAILLOT\",\"ARGENTINE\", \"CHARLES DE GAULLE ETOILE\", \n",
    "                 \"GEORGE V\", \"FRANKLIN-D.ROOSEVELT\", \"CHAMPS-ELYSEES-CLEMENCEAU\", \"CONCORDE\", \"TUILERIES\", \n",
    "                 \"PALAIS ROYAL-MUSEE DU LOUVRE\", \"LOUVRE-RIVOLI\", \"CHATELET\", \"HOTEL DE VILLE\", \n",
    "                 \"SAINT-PAUL (LE MARAIS)\", \"BASTILLE\", \"GARE DE LYON\", \"REUILLY-DIDEROT\", \"NATION\", \n",
    "                 \"PORTE DE VINCENNES\", \"SAINT-MANDE-TOURELLE\", \"BERAULT\", \"CHATEAU DE VINCENNES\"]"
   ]
  },
  {
   "cell_type": "code",
   "execution_count": 9,
   "id": "9047e043",
   "metadata": {},
   "outputs": [],
   "source": [
    "df_finale = df_finale[df_finale[\"LIBELLE_ARRET\"].isin(liste_ligne_1)]"
   ]
  },
  {
   "cell_type": "markdown",
   "id": "4f729003",
   "metadata": {},
   "source": [
    "<h3><font color=darkred>Formatage de la colonne \"JOUR\"</h3>"
   ]
  },
  {
   "cell_type": "markdown",
   "id": "d5f00bac",
   "metadata": {},
   "source": [
    "Nous allons extraire les parties de chaque valeur de la colonne \"JOUR\" et les combiner en une nouvelle chaîne de caractères au format \"AAAA-MM-JJ\".<br>\n",
    "Puis, nous allons convertir ces chaînes de caractères en objets datetime."
   ]
  },
  {
   "cell_type": "code",
   "execution_count": 10,
   "id": "79ac98a4",
   "metadata": {
    "scrolled": true
   },
   "outputs": [],
   "source": [
    "df_finale[\"JOUR\"] = df_finale[\"JOUR\"].str.slice(start=6, stop=10)+\"-\"+df_finale[\"JOUR\"].str.slice(start=3, stop=5)+\"-\"+df_finale[\"JOUR\"].str.slice(start=0, stop=2)\n",
    "df_finale[\"JOUR\"] = pd.to_datetime(df_finale[\"JOUR\"])"
   ]
  },
  {
   "cell_type": "code",
   "execution_count": 11,
   "id": "deac74b8",
   "metadata": {},
   "outputs": [],
   "source": [
    "os.makedirs(\"Bases\", exist_ok=True)\n",
    "df_finale.to_csv(\"Bases/Base_Finale.csv\")"
   ]
  },
  {
   "cell_type": "markdown",
   "id": "2cc5c9ca",
   "metadata": {},
   "source": [
    "<h3><font color=darkred>Rajout de datasets auxilliaires</h3>"
   ]
  },
  {
   "cell_type": "markdown",
   "id": "8d5e265e",
   "metadata": {},
   "source": [
    "À notre dataset principal nous avons eu l'idée d'y integrer des datasets auxilières afin d'y ajouter des informations supplémentaires qui peuvent expliquer certaines fluctuations de l'affluence des métros parisiens.<br>\n",
    "<br>\n",
    "Nous avons choisi plusieurs datasets qui listent depuis le 1er janvier 2015 :\n",
    "- Les jours fériés\n",
    "- Les jours de grèves\n",
    "- Les jours de fêtes\n",
    "- Les vacances scolaires\n",
    "- Les périodes de confinement\n",
    "- Les périodes de couvre-feu\n",
    "\n",
    "\n",
    "Pour ce faire, nous allons procéder de manière similaire pour tous les datasets auxilliaires : <br>\n",
    "Après le chargement des données, nous allons d'abord extraire les parties de chaque valeur de la colonne \"JOUR\" des DataFrames (jours_feries, jours_greves, jours_fete, vacances, confinements et couvres_feu) et les combiner en une nouvelle chaîne de caractères au format \"AAAA-MM-JJ\". Puis, nous allons convertir ces chaînes de caractères en objets datetime.<br>\n",
    "Enfin, nous allons concaténer chacun des DataFrames avec le DataFrame principal."
   ]
  },
  {
   "cell_type": "markdown",
   "id": "6d7ff76c",
   "metadata": {},
   "source": [
    "<h4><font color=darkred>Rajout des Jours Fériés</h4>"
   ]
  },
  {
   "cell_type": "code",
   "execution_count": 12,
   "id": "529fab8c",
   "metadata": {},
   "outputs": [],
   "source": [
    "jours_feries = pd.read_csv(\"Caracteristiques_Jours/Jours_Feries.csv\", sep=\";\")[[\"JOUR\", \"LIBELLE_JOUR_FERIE\"]]"
   ]
  },
  {
   "cell_type": "code",
   "execution_count": 13,
   "id": "0ab75f24",
   "metadata": {},
   "outputs": [
    {
     "data": {
      "text/html": [
       "<div>\n",
       "<style scoped>\n",
       "    .dataframe tbody tr th:only-of-type {\n",
       "        vertical-align: middle;\n",
       "    }\n",
       "\n",
       "    .dataframe tbody tr th {\n",
       "        vertical-align: top;\n",
       "    }\n",
       "\n",
       "    .dataframe thead th {\n",
       "        text-align: right;\n",
       "    }\n",
       "</style>\n",
       "<table border=\"1\" class=\"dataframe\">\n",
       "  <thead>\n",
       "    <tr style=\"text-align: right;\">\n",
       "      <th></th>\n",
       "      <th>JOUR</th>\n",
       "      <th>LIBELLE_JOUR_FERIE</th>\n",
       "    </tr>\n",
       "  </thead>\n",
       "  <tbody>\n",
       "    <tr>\n",
       "      <th>0</th>\n",
       "      <td>01/01/2015</td>\n",
       "      <td>Jour de l’an</td>\n",
       "    </tr>\n",
       "  </tbody>\n",
       "</table>\n",
       "</div>"
      ],
      "text/plain": [
       "         JOUR LIBELLE_JOUR_FERIE\n",
       "0  01/01/2015       Jour de l’an"
      ]
     },
     "execution_count": 13,
     "metadata": {},
     "output_type": "execute_result"
    }
   ],
   "source": [
    "jours_feries.head(1)"
   ]
  },
  {
   "cell_type": "code",
   "execution_count": 14,
   "id": "94063a39",
   "metadata": {},
   "outputs": [],
   "source": [
    "jours_feries[\"JOUR\"] = jours_feries[\"JOUR\"].str.slice(start=6, stop=10)+\"-\"+jours_feries[\"JOUR\"].str.slice(start=3, stop=5)+\"-\"+jours_feries[\"JOUR\"].str.slice(start=0, stop=2)\n",
    "jours_feries[\"JOUR\"] = pd.to_datetime(jours_feries[\"JOUR\"])"
   ]
  },
  {
   "cell_type": "code",
   "execution_count": 15,
   "id": "8cbf39e6",
   "metadata": {
    "scrolled": false
   },
   "outputs": [],
   "source": [
    "df_finale = df_finale.join(jours_feries.set_index('JOUR'), on = \"JOUR\")"
   ]
  },
  {
   "cell_type": "code",
   "execution_count": 16,
   "id": "1949ed32",
   "metadata": {
    "scrolled": true
   },
   "outputs": [
    {
     "data": {
      "text/html": [
       "<div>\n",
       "<style scoped>\n",
       "    .dataframe tbody tr th:only-of-type {\n",
       "        vertical-align: middle;\n",
       "    }\n",
       "\n",
       "    .dataframe tbody tr th {\n",
       "        vertical-align: top;\n",
       "    }\n",
       "\n",
       "    .dataframe thead th {\n",
       "        text-align: right;\n",
       "    }\n",
       "</style>\n",
       "<table border=\"1\" class=\"dataframe\">\n",
       "  <thead>\n",
       "    <tr style=\"text-align: right;\">\n",
       "      <th></th>\n",
       "      <th>JOUR</th>\n",
       "      <th>LIBELLE_ARRET</th>\n",
       "      <th>NB_VALD</th>\n",
       "      <th>LIBELLE_JOUR_FERIE</th>\n",
       "    </tr>\n",
       "  </thead>\n",
       "  <tbody>\n",
       "    <tr>\n",
       "      <th>1810141</th>\n",
       "      <td>2021-12-31</td>\n",
       "      <td>PORTE MAILLOT</td>\n",
       "      <td>3897</td>\n",
       "      <td>NaN</td>\n",
       "    </tr>\n",
       "    <tr>\n",
       "      <th>1810160</th>\n",
       "      <td>2021-12-31</td>\n",
       "      <td>REUILLY-DIDEROT</td>\n",
       "      <td>6777</td>\n",
       "      <td>NaN</td>\n",
       "    </tr>\n",
       "    <tr>\n",
       "      <th>1810195</th>\n",
       "      <td>2021-12-31</td>\n",
       "      <td>SAINT-MANDE-TOURELLE</td>\n",
       "      <td>5087</td>\n",
       "      <td>NaN</td>\n",
       "    </tr>\n",
       "    <tr>\n",
       "      <th>1810208</th>\n",
       "      <td>2021-12-31</td>\n",
       "      <td>SAINT-PAUL (LE MARAIS)</td>\n",
       "      <td>5061</td>\n",
       "      <td>NaN</td>\n",
       "    </tr>\n",
       "    <tr>\n",
       "      <th>1810261</th>\n",
       "      <td>2021-12-31</td>\n",
       "      <td>TUILERIES</td>\n",
       "      <td>361</td>\n",
       "      <td>NaN</td>\n",
       "    </tr>\n",
       "  </tbody>\n",
       "</table>\n",
       "</div>"
      ],
      "text/plain": [
       "              JOUR           LIBELLE_ARRET  NB_VALD LIBELLE_JOUR_FERIE\n",
       "1810141 2021-12-31           PORTE MAILLOT     3897                NaN\n",
       "1810160 2021-12-31         REUILLY-DIDEROT     6777                NaN\n",
       "1810195 2021-12-31    SAINT-MANDE-TOURELLE     5087                NaN\n",
       "1810208 2021-12-31  SAINT-PAUL (LE MARAIS)     5061                NaN\n",
       "1810261 2021-12-31               TUILERIES      361                NaN"
      ]
     },
     "execution_count": 16,
     "metadata": {},
     "output_type": "execute_result"
    }
   ],
   "source": [
    "df_finale.tail()"
   ]
  },
  {
   "cell_type": "markdown",
   "id": "5caa6ad3",
   "metadata": {},
   "source": [
    "<h4><font color=darkred>Rajout des Jours de Grèves</h4>"
   ]
  },
  {
   "cell_type": "code",
   "execution_count": 17,
   "id": "5eedfb66",
   "metadata": {},
   "outputs": [],
   "source": [
    "jours_greves = pd.read_csv(\"Caracteristiques_Jours/Greves.csv\", sep=\";\")[[\"JOUR\", \"MODALITE_GREVE\"]]"
   ]
  },
  {
   "cell_type": "code",
   "execution_count": 18,
   "id": "9cd47021",
   "metadata": {},
   "outputs": [
    {
     "data": {
      "text/html": [
       "<div>\n",
       "<style scoped>\n",
       "    .dataframe tbody tr th:only-of-type {\n",
       "        vertical-align: middle;\n",
       "    }\n",
       "\n",
       "    .dataframe tbody tr th {\n",
       "        vertical-align: top;\n",
       "    }\n",
       "\n",
       "    .dataframe thead th {\n",
       "        text-align: right;\n",
       "    }\n",
       "</style>\n",
       "<table border=\"1\" class=\"dataframe\">\n",
       "  <thead>\n",
       "    <tr style=\"text-align: right;\">\n",
       "      <th></th>\n",
       "      <th>JOUR</th>\n",
       "      <th>MODALITE_GREVE</th>\n",
       "    </tr>\n",
       "  </thead>\n",
       "  <tbody>\n",
       "    <tr>\n",
       "      <th>0</th>\n",
       "      <td>01/01/2019</td>\n",
       "      <td>Fort</td>\n",
       "    </tr>\n",
       "  </tbody>\n",
       "</table>\n",
       "</div>"
      ],
      "text/plain": [
       "         JOUR MODALITE_GREVE\n",
       "0  01/01/2019           Fort"
      ]
     },
     "execution_count": 18,
     "metadata": {},
     "output_type": "execute_result"
    }
   ],
   "source": [
    "jours_greves.head(1)"
   ]
  },
  {
   "cell_type": "code",
   "execution_count": 19,
   "id": "f785fe11",
   "metadata": {},
   "outputs": [],
   "source": [
    "jours_greves[\"JOUR\"] = jours_greves[\"JOUR\"].str.slice(start=6, stop=10)+\"-\"+jours_greves[\"JOUR\"].str.slice(start=3, stop=5)+\"-\"+jours_greves[\"JOUR\"].str.slice(start=0, stop=2)\n",
    "jours_greves[\"JOUR\"] = pd.to_datetime(jours_greves[\"JOUR\"])"
   ]
  },
  {
   "cell_type": "code",
   "execution_count": 20,
   "id": "e827c0aa",
   "metadata": {},
   "outputs": [],
   "source": [
    "df_finale = df_finale.join(jours_greves.set_index('JOUR'), on = \"JOUR\")"
   ]
  },
  {
   "cell_type": "code",
   "execution_count": 21,
   "id": "1f8525a9",
   "metadata": {},
   "outputs": [
    {
     "data": {
      "text/html": [
       "<div>\n",
       "<style scoped>\n",
       "    .dataframe tbody tr th:only-of-type {\n",
       "        vertical-align: middle;\n",
       "    }\n",
       "\n",
       "    .dataframe tbody tr th {\n",
       "        vertical-align: top;\n",
       "    }\n",
       "\n",
       "    .dataframe thead th {\n",
       "        text-align: right;\n",
       "    }\n",
       "</style>\n",
       "<table border=\"1\" class=\"dataframe\">\n",
       "  <thead>\n",
       "    <tr style=\"text-align: right;\">\n",
       "      <th></th>\n",
       "      <th>JOUR</th>\n",
       "      <th>LIBELLE_ARRET</th>\n",
       "      <th>NB_VALD</th>\n",
       "      <th>LIBELLE_JOUR_FERIE</th>\n",
       "      <th>MODALITE_GREVE</th>\n",
       "    </tr>\n",
       "  </thead>\n",
       "  <tbody>\n",
       "    <tr>\n",
       "      <th>17</th>\n",
       "      <td>2015-01-01</td>\n",
       "      <td>ARGENTINE</td>\n",
       "      <td>874</td>\n",
       "      <td>Jour de l’an</td>\n",
       "      <td>NaN</td>\n",
       "    </tr>\n",
       "  </tbody>\n",
       "</table>\n",
       "</div>"
      ],
      "text/plain": [
       "         JOUR LIBELLE_ARRET  NB_VALD LIBELLE_JOUR_FERIE MODALITE_GREVE\n",
       "17 2015-01-01     ARGENTINE      874       Jour de l’an            NaN"
      ]
     },
     "execution_count": 21,
     "metadata": {},
     "output_type": "execute_result"
    }
   ],
   "source": [
    "df_finale.head(1)"
   ]
  },
  {
   "cell_type": "markdown",
   "id": "e6462335",
   "metadata": {},
   "source": [
    "<h4><font color=darkred>Rajout des Jours de Fêtes</h4>"
   ]
  },
  {
   "cell_type": "code",
   "execution_count": 22,
   "id": "69f33aa1",
   "metadata": {
    "scrolled": false
   },
   "outputs": [],
   "source": [
    "jours_fetes = pd.read_csv(\"Caracteristiques_Jours/Jours_Fetes.csv\", sep=\";\")[[\"JOUR\", \"LIBELLE_FETE\"]]"
   ]
  },
  {
   "cell_type": "code",
   "execution_count": 23,
   "id": "58ecef6d",
   "metadata": {
    "scrolled": false
   },
   "outputs": [
    {
     "data": {
      "text/html": [
       "<div>\n",
       "<style scoped>\n",
       "    .dataframe tbody tr th:only-of-type {\n",
       "        vertical-align: middle;\n",
       "    }\n",
       "\n",
       "    .dataframe tbody tr th {\n",
       "        vertical-align: top;\n",
       "    }\n",
       "\n",
       "    .dataframe thead th {\n",
       "        text-align: right;\n",
       "    }\n",
       "</style>\n",
       "<table border=\"1\" class=\"dataframe\">\n",
       "  <thead>\n",
       "    <tr style=\"text-align: right;\">\n",
       "      <th></th>\n",
       "      <th>JOUR</th>\n",
       "      <th>LIBELLE_FETE</th>\n",
       "    </tr>\n",
       "  </thead>\n",
       "  <tbody>\n",
       "    <tr>\n",
       "      <th>0</th>\n",
       "      <td>06/01/2015</td>\n",
       "      <td>Epiphanie</td>\n",
       "    </tr>\n",
       "  </tbody>\n",
       "</table>\n",
       "</div>"
      ],
      "text/plain": [
       "         JOUR LIBELLE_FETE\n",
       "0  06/01/2015    Epiphanie"
      ]
     },
     "execution_count": 23,
     "metadata": {},
     "output_type": "execute_result"
    }
   ],
   "source": [
    "jours_fetes.head(1)"
   ]
  },
  {
   "cell_type": "code",
   "execution_count": 24,
   "id": "27b34661",
   "metadata": {},
   "outputs": [],
   "source": [
    "jours_fetes[\"JOUR\"] = jours_fetes[\"JOUR\"].str.slice(start=6, stop=10)+\"-\"+jours_fetes[\"JOUR\"].str.slice(start=3, stop=5)+\"-\"+jours_fetes[\"JOUR\"].str.slice(start=0, stop=2)\n",
    "jours_fetes[\"JOUR\"] = pd.to_datetime(jours_fetes[\"JOUR\"])"
   ]
  },
  {
   "cell_type": "code",
   "execution_count": 25,
   "id": "dd0326f9",
   "metadata": {
    "scrolled": false
   },
   "outputs": [],
   "source": [
    "df_finale = df_finale.join(jours_fetes.set_index('JOUR'), on = \"JOUR\")"
   ]
  },
  {
   "cell_type": "code",
   "execution_count": 26,
   "id": "0393cce8",
   "metadata": {},
   "outputs": [
    {
     "data": {
      "text/html": [
       "<div>\n",
       "<style scoped>\n",
       "    .dataframe tbody tr th:only-of-type {\n",
       "        vertical-align: middle;\n",
       "    }\n",
       "\n",
       "    .dataframe tbody tr th {\n",
       "        vertical-align: top;\n",
       "    }\n",
       "\n",
       "    .dataframe thead th {\n",
       "        text-align: right;\n",
       "    }\n",
       "</style>\n",
       "<table border=\"1\" class=\"dataframe\">\n",
       "  <thead>\n",
       "    <tr style=\"text-align: right;\">\n",
       "      <th></th>\n",
       "      <th>JOUR</th>\n",
       "      <th>LIBELLE_ARRET</th>\n",
       "      <th>NB_VALD</th>\n",
       "      <th>LIBELLE_JOUR_FERIE</th>\n",
       "      <th>MODALITE_GREVE</th>\n",
       "      <th>LIBELLE_FETE</th>\n",
       "    </tr>\n",
       "  </thead>\n",
       "  <tbody>\n",
       "    <tr>\n",
       "      <th>17</th>\n",
       "      <td>2015-01-01</td>\n",
       "      <td>ARGENTINE</td>\n",
       "      <td>874</td>\n",
       "      <td>Jour de l’an</td>\n",
       "      <td>NaN</td>\n",
       "      <td>NaN</td>\n",
       "    </tr>\n",
       "  </tbody>\n",
       "</table>\n",
       "</div>"
      ],
      "text/plain": [
       "         JOUR LIBELLE_ARRET  NB_VALD LIBELLE_JOUR_FERIE MODALITE_GREVE  \\\n",
       "17 2015-01-01     ARGENTINE      874       Jour de l’an            NaN   \n",
       "\n",
       "   LIBELLE_FETE  \n",
       "17          NaN  "
      ]
     },
     "execution_count": 26,
     "metadata": {},
     "output_type": "execute_result"
    }
   ],
   "source": [
    "df_finale.head(1)"
   ]
  },
  {
   "cell_type": "markdown",
   "id": "33cd2651",
   "metadata": {},
   "source": [
    "<h4><font color=darkred>Rajout des Vacances</h4>"
   ]
  },
  {
   "cell_type": "code",
   "execution_count": 27,
   "id": "44059a73",
   "metadata": {},
   "outputs": [],
   "source": [
    "vacances = pd.read_csv(\"Caracteristiques_Jours/Vacances.csv\", sep=\";\")[[\"JOUR\",\"LIBELLE_VACANCE\"]]"
   ]
  },
  {
   "cell_type": "code",
   "execution_count": 28,
   "id": "a9c6ec95",
   "metadata": {},
   "outputs": [
    {
     "data": {
      "text/html": [
       "<div>\n",
       "<style scoped>\n",
       "    .dataframe tbody tr th:only-of-type {\n",
       "        vertical-align: middle;\n",
       "    }\n",
       "\n",
       "    .dataframe tbody tr th {\n",
       "        vertical-align: top;\n",
       "    }\n",
       "\n",
       "    .dataframe thead th {\n",
       "        text-align: right;\n",
       "    }\n",
       "</style>\n",
       "<table border=\"1\" class=\"dataframe\">\n",
       "  <thead>\n",
       "    <tr style=\"text-align: right;\">\n",
       "      <th></th>\n",
       "      <th>JOUR</th>\n",
       "      <th>LIBELLE_VACANCE</th>\n",
       "    </tr>\n",
       "  </thead>\n",
       "  <tbody>\n",
       "    <tr>\n",
       "      <th>0</th>\n",
       "      <td>18/10/2014</td>\n",
       "      <td>Toussaint</td>\n",
       "    </tr>\n",
       "  </tbody>\n",
       "</table>\n",
       "</div>"
      ],
      "text/plain": [
       "         JOUR LIBELLE_VACANCE\n",
       "0  18/10/2014       Toussaint"
      ]
     },
     "execution_count": 28,
     "metadata": {},
     "output_type": "execute_result"
    }
   ],
   "source": [
    "vacances.head(1)"
   ]
  },
  {
   "cell_type": "code",
   "execution_count": 29,
   "id": "7cca9a4e",
   "metadata": {},
   "outputs": [],
   "source": [
    "vacances[\"JOUR\"] = vacances[\"JOUR\"].str.slice(start=6, stop=10)+\"-\"+vacances[\"JOUR\"].str.slice(start=3, stop=5)+\"-\"+vacances[\"JOUR\"].str.slice(start=0, stop=2)\n",
    "vacances[\"JOUR\"] = pd.to_datetime(vacances[\"JOUR\"])"
   ]
  },
  {
   "cell_type": "code",
   "execution_count": 30,
   "id": "270f3f0d",
   "metadata": {},
   "outputs": [],
   "source": [
    "df_finale = df_finale.join(vacances.set_index('JOUR'), on = \"JOUR\")"
   ]
  },
  {
   "cell_type": "code",
   "execution_count": 31,
   "id": "05d17cb3",
   "metadata": {},
   "outputs": [
    {
     "data": {
      "text/html": [
       "<div>\n",
       "<style scoped>\n",
       "    .dataframe tbody tr th:only-of-type {\n",
       "        vertical-align: middle;\n",
       "    }\n",
       "\n",
       "    .dataframe tbody tr th {\n",
       "        vertical-align: top;\n",
       "    }\n",
       "\n",
       "    .dataframe thead th {\n",
       "        text-align: right;\n",
       "    }\n",
       "</style>\n",
       "<table border=\"1\" class=\"dataframe\">\n",
       "  <thead>\n",
       "    <tr style=\"text-align: right;\">\n",
       "      <th></th>\n",
       "      <th>JOUR</th>\n",
       "      <th>LIBELLE_ARRET</th>\n",
       "      <th>NB_VALD</th>\n",
       "      <th>LIBELLE_JOUR_FERIE</th>\n",
       "      <th>MODALITE_GREVE</th>\n",
       "      <th>LIBELLE_FETE</th>\n",
       "      <th>LIBELLE_VACANCE</th>\n",
       "    </tr>\n",
       "  </thead>\n",
       "  <tbody>\n",
       "    <tr>\n",
       "      <th>17</th>\n",
       "      <td>2015-01-01</td>\n",
       "      <td>ARGENTINE</td>\n",
       "      <td>874</td>\n",
       "      <td>Jour de l’an</td>\n",
       "      <td>NaN</td>\n",
       "      <td>NaN</td>\n",
       "      <td>Noël</td>\n",
       "    </tr>\n",
       "  </tbody>\n",
       "</table>\n",
       "</div>"
      ],
      "text/plain": [
       "         JOUR LIBELLE_ARRET  NB_VALD LIBELLE_JOUR_FERIE MODALITE_GREVE  \\\n",
       "17 2015-01-01     ARGENTINE      874       Jour de l’an            NaN   \n",
       "\n",
       "   LIBELLE_FETE LIBELLE_VACANCE  \n",
       "17          NaN            Noël  "
      ]
     },
     "execution_count": 31,
     "metadata": {},
     "output_type": "execute_result"
    }
   ],
   "source": [
    "df_finale.head(1)"
   ]
  },
  {
   "cell_type": "markdown",
   "id": "2762fac5",
   "metadata": {},
   "source": [
    "<h4><font color=darkred>Rajout des Confinements</h4>"
   ]
  },
  {
   "cell_type": "code",
   "execution_count": 32,
   "id": "0dc17bca",
   "metadata": {},
   "outputs": [],
   "source": [
    "confinements = pd.read_csv(\"Caracteristiques_Jours/Confinements.csv\", sep=\";\")[[\"JOUR\", \"LIBELLE_CONFINEMENT\"]]"
   ]
  },
  {
   "cell_type": "code",
   "execution_count": 33,
   "id": "4ee0b08a",
   "metadata": {},
   "outputs": [
    {
     "data": {
      "text/html": [
       "<div>\n",
       "<style scoped>\n",
       "    .dataframe tbody tr th:only-of-type {\n",
       "        vertical-align: middle;\n",
       "    }\n",
       "\n",
       "    .dataframe tbody tr th {\n",
       "        vertical-align: top;\n",
       "    }\n",
       "\n",
       "    .dataframe thead th {\n",
       "        text-align: right;\n",
       "    }\n",
       "</style>\n",
       "<table border=\"1\" class=\"dataframe\">\n",
       "  <thead>\n",
       "    <tr style=\"text-align: right;\">\n",
       "      <th></th>\n",
       "      <th>JOUR</th>\n",
       "      <th>LIBELLE_CONFINEMENT</th>\n",
       "    </tr>\n",
       "  </thead>\n",
       "  <tbody>\n",
       "    <tr>\n",
       "      <th>0</th>\n",
       "      <td>17/03/2020</td>\n",
       "      <td>Premier Confinement</td>\n",
       "    </tr>\n",
       "  </tbody>\n",
       "</table>\n",
       "</div>"
      ],
      "text/plain": [
       "         JOUR  LIBELLE_CONFINEMENT\n",
       "0  17/03/2020  Premier Confinement"
      ]
     },
     "execution_count": 33,
     "metadata": {},
     "output_type": "execute_result"
    }
   ],
   "source": [
    "confinements.head(1)"
   ]
  },
  {
   "cell_type": "code",
   "execution_count": 34,
   "id": "09392c06",
   "metadata": {},
   "outputs": [],
   "source": [
    "confinements[\"JOUR\"] = confinements[\"JOUR\"].str.slice(start=6, stop=10)+\"-\"+confinements[\"JOUR\"].str.slice(start=3, stop=5)+\"-\"+confinements[\"JOUR\"].str.slice(start=0, stop=2)\n",
    "confinements[\"JOUR\"] = pd.to_datetime(confinements[\"JOUR\"])"
   ]
  },
  {
   "cell_type": "code",
   "execution_count": 35,
   "id": "9df6b9e0",
   "metadata": {},
   "outputs": [],
   "source": [
    "df_finale = df_finale.join(confinements.set_index('JOUR'), on = \"JOUR\")"
   ]
  },
  {
   "cell_type": "code",
   "execution_count": 36,
   "id": "10dbe52a",
   "metadata": {},
   "outputs": [
    {
     "data": {
      "text/html": [
       "<div>\n",
       "<style scoped>\n",
       "    .dataframe tbody tr th:only-of-type {\n",
       "        vertical-align: middle;\n",
       "    }\n",
       "\n",
       "    .dataframe tbody tr th {\n",
       "        vertical-align: top;\n",
       "    }\n",
       "\n",
       "    .dataframe thead th {\n",
       "        text-align: right;\n",
       "    }\n",
       "</style>\n",
       "<table border=\"1\" class=\"dataframe\">\n",
       "  <thead>\n",
       "    <tr style=\"text-align: right;\">\n",
       "      <th></th>\n",
       "      <th>JOUR</th>\n",
       "      <th>LIBELLE_ARRET</th>\n",
       "      <th>NB_VALD</th>\n",
       "      <th>LIBELLE_JOUR_FERIE</th>\n",
       "      <th>MODALITE_GREVE</th>\n",
       "      <th>LIBELLE_FETE</th>\n",
       "      <th>LIBELLE_VACANCE</th>\n",
       "      <th>LIBELLE_CONFINEMENT</th>\n",
       "    </tr>\n",
       "  </thead>\n",
       "  <tbody>\n",
       "    <tr>\n",
       "      <th>17</th>\n",
       "      <td>2015-01-01</td>\n",
       "      <td>ARGENTINE</td>\n",
       "      <td>874</td>\n",
       "      <td>Jour de l’an</td>\n",
       "      <td>NaN</td>\n",
       "      <td>NaN</td>\n",
       "      <td>Noël</td>\n",
       "      <td>NaN</td>\n",
       "    </tr>\n",
       "  </tbody>\n",
       "</table>\n",
       "</div>"
      ],
      "text/plain": [
       "         JOUR LIBELLE_ARRET  NB_VALD LIBELLE_JOUR_FERIE MODALITE_GREVE  \\\n",
       "17 2015-01-01     ARGENTINE      874       Jour de l’an            NaN   \n",
       "\n",
       "   LIBELLE_FETE LIBELLE_VACANCE LIBELLE_CONFINEMENT  \n",
       "17          NaN            Noël                 NaN  "
      ]
     },
     "execution_count": 36,
     "metadata": {},
     "output_type": "execute_result"
    }
   ],
   "source": [
    "df_finale.head(1)"
   ]
  },
  {
   "cell_type": "markdown",
   "id": "8d49ac0f",
   "metadata": {},
   "source": [
    "<h4><font color=darkred>Rajout des Couvres-Feu</h4>"
   ]
  },
  {
   "cell_type": "code",
   "execution_count": 37,
   "id": "32e1f81b",
   "metadata": {},
   "outputs": [],
   "source": [
    "couvres_feu = pd.read_csv(\"Caracteristiques_Jours/Couvres_Feu.csv\", sep=\";\")[[\"JOUR\", \"LIBELLE_COUVRE_FEU\"]]"
   ]
  },
  {
   "cell_type": "code",
   "execution_count": 38,
   "id": "55623999",
   "metadata": {},
   "outputs": [
    {
     "data": {
      "text/html": [
       "<div>\n",
       "<style scoped>\n",
       "    .dataframe tbody tr th:only-of-type {\n",
       "        vertical-align: middle;\n",
       "    }\n",
       "\n",
       "    .dataframe tbody tr th {\n",
       "        vertical-align: top;\n",
       "    }\n",
       "\n",
       "    .dataframe thead th {\n",
       "        text-align: right;\n",
       "    }\n",
       "</style>\n",
       "<table border=\"1\" class=\"dataframe\">\n",
       "  <thead>\n",
       "    <tr style=\"text-align: right;\">\n",
       "      <th></th>\n",
       "      <th>JOUR</th>\n",
       "      <th>LIBELLE_COUVRE_FEU</th>\n",
       "    </tr>\n",
       "  </thead>\n",
       "  <tbody>\n",
       "    <tr>\n",
       "      <th>0</th>\n",
       "      <td>17/10/2020</td>\n",
       "      <td>21h-6h</td>\n",
       "    </tr>\n",
       "  </tbody>\n",
       "</table>\n",
       "</div>"
      ],
      "text/plain": [
       "         JOUR LIBELLE_COUVRE_FEU\n",
       "0  17/10/2020             21h-6h"
      ]
     },
     "execution_count": 38,
     "metadata": {},
     "output_type": "execute_result"
    }
   ],
   "source": [
    "couvres_feu.head(1)"
   ]
  },
  {
   "cell_type": "code",
   "execution_count": 39,
   "id": "cabefc6c",
   "metadata": {},
   "outputs": [],
   "source": [
    "couvres_feu[\"JOUR\"] = couvres_feu[\"JOUR\"].str.slice(start=6, stop=10)+\"-\"+couvres_feu[\"JOUR\"].str.slice(start=3, stop=5)+\"-\"+couvres_feu[\"JOUR\"].str.slice(start=0, stop=2)\n",
    "couvres_feu[\"JOUR\"] = pd.to_datetime(couvres_feu[\"JOUR\"])"
   ]
  },
  {
   "cell_type": "code",
   "execution_count": 40,
   "id": "cca2f50f",
   "metadata": {},
   "outputs": [],
   "source": [
    "df_finale = df_finale.join(couvres_feu.set_index('JOUR'), on = \"JOUR\")"
   ]
  },
  {
   "cell_type": "code",
   "execution_count": 41,
   "id": "c132cafc",
   "metadata": {},
   "outputs": [
    {
     "data": {
      "text/html": [
       "<div>\n",
       "<style scoped>\n",
       "    .dataframe tbody tr th:only-of-type {\n",
       "        vertical-align: middle;\n",
       "    }\n",
       "\n",
       "    .dataframe tbody tr th {\n",
       "        vertical-align: top;\n",
       "    }\n",
       "\n",
       "    .dataframe thead th {\n",
       "        text-align: right;\n",
       "    }\n",
       "</style>\n",
       "<table border=\"1\" class=\"dataframe\">\n",
       "  <thead>\n",
       "    <tr style=\"text-align: right;\">\n",
       "      <th></th>\n",
       "      <th>JOUR</th>\n",
       "      <th>LIBELLE_ARRET</th>\n",
       "      <th>NB_VALD</th>\n",
       "      <th>LIBELLE_JOUR_FERIE</th>\n",
       "      <th>MODALITE_GREVE</th>\n",
       "      <th>LIBELLE_FETE</th>\n",
       "      <th>LIBELLE_VACANCE</th>\n",
       "      <th>LIBELLE_CONFINEMENT</th>\n",
       "      <th>LIBELLE_COUVRE_FEU</th>\n",
       "    </tr>\n",
       "  </thead>\n",
       "  <tbody>\n",
       "    <tr>\n",
       "      <th>17</th>\n",
       "      <td>2015-01-01</td>\n",
       "      <td>ARGENTINE</td>\n",
       "      <td>874</td>\n",
       "      <td>Jour de l’an</td>\n",
       "      <td>NaN</td>\n",
       "      <td>NaN</td>\n",
       "      <td>Noël</td>\n",
       "      <td>NaN</td>\n",
       "      <td>NaN</td>\n",
       "    </tr>\n",
       "    <tr>\n",
       "      <th>40</th>\n",
       "      <td>2015-01-01</td>\n",
       "      <td>BASTILLE</td>\n",
       "      <td>5962</td>\n",
       "      <td>Jour de l’an</td>\n",
       "      <td>NaN</td>\n",
       "      <td>NaN</td>\n",
       "      <td>Noël</td>\n",
       "      <td>NaN</td>\n",
       "      <td>NaN</td>\n",
       "    </tr>\n",
       "    <tr>\n",
       "      <th>46</th>\n",
       "      <td>2015-01-01</td>\n",
       "      <td>BERAULT</td>\n",
       "      <td>1136</td>\n",
       "      <td>Jour de l’an</td>\n",
       "      <td>NaN</td>\n",
       "      <td>NaN</td>\n",
       "      <td>Noël</td>\n",
       "      <td>NaN</td>\n",
       "      <td>NaN</td>\n",
       "    </tr>\n",
       "    <tr>\n",
       "      <th>115</th>\n",
       "      <td>2015-01-01</td>\n",
       "      <td>CHAMPS-ELYSEES-CLEMENCEAU</td>\n",
       "      <td>2994</td>\n",
       "      <td>Jour de l’an</td>\n",
       "      <td>NaN</td>\n",
       "      <td>NaN</td>\n",
       "      <td>Noël</td>\n",
       "      <td>NaN</td>\n",
       "      <td>NaN</td>\n",
       "    </tr>\n",
       "    <tr>\n",
       "      <th>121</th>\n",
       "      <td>2015-01-01</td>\n",
       "      <td>CHARLES DE GAULLE ETOILE</td>\n",
       "      <td>10962</td>\n",
       "      <td>Jour de l’an</td>\n",
       "      <td>NaN</td>\n",
       "      <td>NaN</td>\n",
       "      <td>Noël</td>\n",
       "      <td>NaN</td>\n",
       "      <td>NaN</td>\n",
       "    </tr>\n",
       "  </tbody>\n",
       "</table>\n",
       "</div>"
      ],
      "text/plain": [
       "          JOUR              LIBELLE_ARRET  NB_VALD LIBELLE_JOUR_FERIE  \\\n",
       "17  2015-01-01                  ARGENTINE      874       Jour de l’an   \n",
       "40  2015-01-01                   BASTILLE     5962       Jour de l’an   \n",
       "46  2015-01-01                    BERAULT     1136       Jour de l’an   \n",
       "115 2015-01-01  CHAMPS-ELYSEES-CLEMENCEAU     2994       Jour de l’an   \n",
       "121 2015-01-01   CHARLES DE GAULLE ETOILE    10962       Jour de l’an   \n",
       "\n",
       "    MODALITE_GREVE LIBELLE_FETE LIBELLE_VACANCE LIBELLE_CONFINEMENT  \\\n",
       "17             NaN          NaN            Noël                 NaN   \n",
       "40             NaN          NaN            Noël                 NaN   \n",
       "46             NaN          NaN            Noël                 NaN   \n",
       "115            NaN          NaN            Noël                 NaN   \n",
       "121            NaN          NaN            Noël                 NaN   \n",
       "\n",
       "    LIBELLE_COUVRE_FEU  \n",
       "17                 NaN  \n",
       "40                 NaN  \n",
       "46                 NaN  \n",
       "115                NaN  \n",
       "121                NaN  "
      ]
     },
     "execution_count": 41,
     "metadata": {},
     "output_type": "execute_result"
    }
   ],
   "source": [
    "df_finale.head()"
   ]
  },
  {
   "cell_type": "markdown",
   "id": "3384e16a",
   "metadata": {},
   "source": [
    "<h3><font color=darkred>Base Finale</h3>"
   ]
  },
  {
   "cell_type": "markdown",
   "id": "e3e9ec1e",
   "metadata": {},
   "source": [
    "Voici un apperçu de notre **dataset final** :"
   ]
  },
  {
   "cell_type": "code",
   "execution_count": 42,
   "id": "e2312d92",
   "metadata": {
    "scrolled": true
   },
   "outputs": [
    {
     "data": {
      "text/html": [
       "<div>\n",
       "<style scoped>\n",
       "    .dataframe tbody tr th:only-of-type {\n",
       "        vertical-align: middle;\n",
       "    }\n",
       "\n",
       "    .dataframe tbody tr th {\n",
       "        vertical-align: top;\n",
       "    }\n",
       "\n",
       "    .dataframe thead th {\n",
       "        text-align: right;\n",
       "    }\n",
       "</style>\n",
       "<table border=\"1\" class=\"dataframe\">\n",
       "  <thead>\n",
       "    <tr style=\"text-align: right;\">\n",
       "      <th></th>\n",
       "      <th>JOUR</th>\n",
       "      <th>LIBELLE_ARRET</th>\n",
       "      <th>NB_VALD</th>\n",
       "      <th>LIBELLE_JOUR_FERIE</th>\n",
       "      <th>MODALITE_GREVE</th>\n",
       "      <th>LIBELLE_FETE</th>\n",
       "      <th>LIBELLE_VACANCE</th>\n",
       "      <th>LIBELLE_CONFINEMENT</th>\n",
       "      <th>LIBELLE_COUVRE_FEU</th>\n",
       "    </tr>\n",
       "  </thead>\n",
       "  <tbody>\n",
       "    <tr>\n",
       "      <th>1810141</th>\n",
       "      <td>2021-12-31</td>\n",
       "      <td>PORTE MAILLOT</td>\n",
       "      <td>3897</td>\n",
       "      <td>NaN</td>\n",
       "      <td>NaN</td>\n",
       "      <td>NaN</td>\n",
       "      <td>Noël</td>\n",
       "      <td>NaN</td>\n",
       "      <td>NaN</td>\n",
       "    </tr>\n",
       "    <tr>\n",
       "      <th>1810160</th>\n",
       "      <td>2021-12-31</td>\n",
       "      <td>REUILLY-DIDEROT</td>\n",
       "      <td>6777</td>\n",
       "      <td>NaN</td>\n",
       "      <td>NaN</td>\n",
       "      <td>NaN</td>\n",
       "      <td>Noël</td>\n",
       "      <td>NaN</td>\n",
       "      <td>NaN</td>\n",
       "    </tr>\n",
       "    <tr>\n",
       "      <th>1810195</th>\n",
       "      <td>2021-12-31</td>\n",
       "      <td>SAINT-MANDE-TOURELLE</td>\n",
       "      <td>5087</td>\n",
       "      <td>NaN</td>\n",
       "      <td>NaN</td>\n",
       "      <td>NaN</td>\n",
       "      <td>Noël</td>\n",
       "      <td>NaN</td>\n",
       "      <td>NaN</td>\n",
       "    </tr>\n",
       "    <tr>\n",
       "      <th>1810208</th>\n",
       "      <td>2021-12-31</td>\n",
       "      <td>SAINT-PAUL (LE MARAIS)</td>\n",
       "      <td>5061</td>\n",
       "      <td>NaN</td>\n",
       "      <td>NaN</td>\n",
       "      <td>NaN</td>\n",
       "      <td>Noël</td>\n",
       "      <td>NaN</td>\n",
       "      <td>NaN</td>\n",
       "    </tr>\n",
       "    <tr>\n",
       "      <th>1810261</th>\n",
       "      <td>2021-12-31</td>\n",
       "      <td>TUILERIES</td>\n",
       "      <td>361</td>\n",
       "      <td>NaN</td>\n",
       "      <td>NaN</td>\n",
       "      <td>NaN</td>\n",
       "      <td>Noël</td>\n",
       "      <td>NaN</td>\n",
       "      <td>NaN</td>\n",
       "    </tr>\n",
       "  </tbody>\n",
       "</table>\n",
       "</div>"
      ],
      "text/plain": [
       "              JOUR           LIBELLE_ARRET  NB_VALD LIBELLE_JOUR_FERIE  \\\n",
       "1810141 2021-12-31           PORTE MAILLOT     3897                NaN   \n",
       "1810160 2021-12-31         REUILLY-DIDEROT     6777                NaN   \n",
       "1810195 2021-12-31    SAINT-MANDE-TOURELLE     5087                NaN   \n",
       "1810208 2021-12-31  SAINT-PAUL (LE MARAIS)     5061                NaN   \n",
       "1810261 2021-12-31               TUILERIES      361                NaN   \n",
       "\n",
       "        MODALITE_GREVE LIBELLE_FETE LIBELLE_VACANCE LIBELLE_CONFINEMENT  \\\n",
       "1810141            NaN          NaN            Noël                 NaN   \n",
       "1810160            NaN          NaN            Noël                 NaN   \n",
       "1810195            NaN          NaN            Noël                 NaN   \n",
       "1810208            NaN          NaN            Noël                 NaN   \n",
       "1810261            NaN          NaN            Noël                 NaN   \n",
       "\n",
       "        LIBELLE_COUVRE_FEU  \n",
       "1810141                NaN  \n",
       "1810160                NaN  \n",
       "1810195                NaN  \n",
       "1810208                NaN  \n",
       "1810261                NaN  "
      ]
     },
     "execution_count": 42,
     "metadata": {},
     "output_type": "execute_result"
    }
   ],
   "source": [
    "df_finale.tail()"
   ]
  },
  {
   "cell_type": "code",
   "execution_count": 43,
   "id": "04648e5f",
   "metadata": {
    "scrolled": false
   },
   "outputs": [],
   "source": [
    "df_finale.to_csv(\"Bases/Base_Finale.csv\")"
   ]
  },
  {
   "cell_type": "markdown",
   "id": "ddb0562f",
   "metadata": {},
   "source": [
    "<h3><font color=darkred>Création de bases annexes utiles pour l'analyse déscriptive des données</h3>"
   ]
  },
  {
   "cell_type": "markdown",
   "id": "71df9e2d",
   "metadata": {},
   "source": [
    "Dans cette partie, nous allons créer différents datasets à partir de notre dataset final afin de répondre aux besoins de la partie *analyse descriptive* de notre projet.<br>\n",
    "<br>\n",
    "En effet, pour étudier la fréquentation de la ligne de métro 1, nous avons besoin de regrouper le nombre de validations en fonction par exemple du jour de la semaine ou du mois.<br>\n",
    "<br>\n",
    "Ces données seront donc disponibles dans les fichiers : \n",
    "- Base_Type_jours.csv\n",
    "- Base_Type_mois.csv"
   ]
  },
  {
   "cell_type": "code",
   "execution_count": 44,
   "id": "0179444f",
   "metadata": {},
   "outputs": [],
   "source": [
    "df_finale = pd.read_csv(\"Bases/Base_Finale.csv\", sep=\",\").drop(\"Unnamed: 0\", axis=1)"
   ]
  },
  {
   "cell_type": "code",
   "execution_count": 45,
   "id": "4469cb9d",
   "metadata": {
    "scrolled": true
   },
   "outputs": [
    {
     "data": {
      "text/html": [
       "<div>\n",
       "<style scoped>\n",
       "    .dataframe tbody tr th:only-of-type {\n",
       "        vertical-align: middle;\n",
       "    }\n",
       "\n",
       "    .dataframe tbody tr th {\n",
       "        vertical-align: top;\n",
       "    }\n",
       "\n",
       "    .dataframe thead th {\n",
       "        text-align: right;\n",
       "    }\n",
       "</style>\n",
       "<table border=\"1\" class=\"dataframe\">\n",
       "  <thead>\n",
       "    <tr style=\"text-align: right;\">\n",
       "      <th></th>\n",
       "      <th>JOUR</th>\n",
       "      <th>LIBELLE_ARRET</th>\n",
       "      <th>NB_VALD</th>\n",
       "      <th>LIBELLE_JOUR_FERIE</th>\n",
       "      <th>MODALITE_GREVE</th>\n",
       "      <th>LIBELLE_FETE</th>\n",
       "      <th>LIBELLE_VACANCE</th>\n",
       "      <th>LIBELLE_CONFINEMENT</th>\n",
       "      <th>LIBELLE_COUVRE_FEU</th>\n",
       "    </tr>\n",
       "  </thead>\n",
       "  <tbody>\n",
       "    <tr>\n",
       "      <th>0</th>\n",
       "      <td>2015-01-01</td>\n",
       "      <td>ARGENTINE</td>\n",
       "      <td>874</td>\n",
       "      <td>Jour de l’an</td>\n",
       "      <td>NaN</td>\n",
       "      <td>NaN</td>\n",
       "      <td>Noël</td>\n",
       "      <td>NaN</td>\n",
       "      <td>NaN</td>\n",
       "    </tr>\n",
       "    <tr>\n",
       "      <th>1</th>\n",
       "      <td>2015-01-01</td>\n",
       "      <td>BASTILLE</td>\n",
       "      <td>5962</td>\n",
       "      <td>Jour de l’an</td>\n",
       "      <td>NaN</td>\n",
       "      <td>NaN</td>\n",
       "      <td>Noël</td>\n",
       "      <td>NaN</td>\n",
       "      <td>NaN</td>\n",
       "    </tr>\n",
       "  </tbody>\n",
       "</table>\n",
       "</div>"
      ],
      "text/plain": [
       "         JOUR LIBELLE_ARRET  NB_VALD LIBELLE_JOUR_FERIE MODALITE_GREVE  \\\n",
       "0  2015-01-01     ARGENTINE      874       Jour de l’an            NaN   \n",
       "1  2015-01-01      BASTILLE     5962       Jour de l’an            NaN   \n",
       "\n",
       "  LIBELLE_FETE LIBELLE_VACANCE LIBELLE_CONFINEMENT LIBELLE_COUVRE_FEU  \n",
       "0          NaN            Noël                 NaN                NaN  \n",
       "1          NaN            Noël                 NaN                NaN  "
      ]
     },
     "execution_count": 45,
     "metadata": {},
     "output_type": "execute_result"
    }
   ],
   "source": [
    "df_finale.head(2)"
   ]
  },
  {
   "cell_type": "code",
   "execution_count": 46,
   "id": "6235a0de",
   "metadata": {},
   "outputs": [],
   "source": [
    "df_finale = df_finale.fillna(\"Aucun\")"
   ]
  },
  {
   "cell_type": "code",
   "execution_count": 47,
   "id": "7c88d4ce",
   "metadata": {},
   "outputs": [],
   "source": [
    "df_NBVALD = df_finale.groupby(['JOUR', 'LIBELLE_JOUR_FERIE', \n",
    "                               'LIBELLE_FETE', 'MODALITE_GREVE', 'LIBELLE_VACANCE', \n",
    "                               'LIBELLE_CONFINEMENT', 'LIBELLE_COUVRE_FEU'])['NB_VALD'].agg('sum')\n",
    "df_NBVALD.to_csv(\"Bases/Base_NBVALD.csv\")"
   ]
  },
  {
   "cell_type": "code",
   "execution_count": 48,
   "id": "3599958f",
   "metadata": {},
   "outputs": [],
   "source": [
    "df_NBVALD = pd.read_csv(\"Bases/Base_NBVALD.csv\", sep=\",\")\n",
    "\n",
    "liste_jours = [\"Lundi\", \"Mardi\", \"Mercredi\", \"Jeudi\", \"Vendredi\", \"Samedi\", \"Dimanche\"]\n",
    "liste_mois = [\"Janvier\", \"Février\", \"Mars\", \"Avril\", \"Mai\", \"Juin\", \n",
    "              \"Juillet\", \"Août\", \"Septembre\", \"Octobre\", \"Novembre\", \"Décembre\"]\n",
    "\n",
    "df_NBVALD[\"NUM_JOUR\"] = pd.to_datetime(df_NBVALD[\"JOUR\"]).dt.dayofweek\n",
    "df_NBVALD[\"TYPO_JOUR\"] = df_NBVALD[\"NUM_JOUR\"].apply(lambda row: liste_jours[row])\n",
    "df_NBVALD[\"NUM_MOIS\"] = pd.to_datetime(df_NBVALD[\"JOUR\"]).dt.month\n",
    "df_NBVALD[\"TYPO_MOIS\"] = df_NBVALD[\"NUM_MOIS\"].apply(lambda row: liste_mois[row-1])\n",
    "df_NBVALD[\"ANNEE\"] = pd.to_datetime(df_NBVALD[\"JOUR\"]).dt.year\n",
    "\n",
    "df_NBVALD.rename(columns = {'JOUR': 'date',\n",
    "                           'LIBELLE_JOUR_FERIE': 'ferie',\n",
    "                           'LIBELLE_FETE': 'fete',\n",
    "                           'MODALITE_GREVE': 'greve',\n",
    "                           'LIBELLE_VACANCE': 'vacance',\n",
    "                           'LIBELLE_CONFINEMENT': 'confinement',\n",
    "                           'LIBELLE_COUVRE_FEU': 'couvre_feu',\n",
    "                           'NB_VALD': 'nb_validation',\n",
    "                           'TYPO_JOUR': 'type_jour',\n",
    "                           'NUM_JOUR': 'num_jour',\n",
    "                           'TYPO_MOIS': 'type_mois',\n",
    "                           'NUM_MOIS': 'num_mois',\n",
    "                           'ANNEE': 'annee',}, inplace = True)\n",
    "\n",
    "df_NBVALD.to_csv(\"Bases/Base_NBVALD.csv\", index=False)"
   ]
  },
  {
   "cell_type": "code",
   "execution_count": 49,
   "id": "346c8a5d",
   "metadata": {},
   "outputs": [],
   "source": [
    "df_NBVALD = pd.read_csv(\"Bases/Base_NBVALD.csv\", sep=\",\")"
   ]
  },
  {
   "cell_type": "code",
   "execution_count": 50,
   "id": "94efe67b",
   "metadata": {},
   "outputs": [
    {
     "data": {
      "text/html": [
       "<div>\n",
       "<style scoped>\n",
       "    .dataframe tbody tr th:only-of-type {\n",
       "        vertical-align: middle;\n",
       "    }\n",
       "\n",
       "    .dataframe tbody tr th {\n",
       "        vertical-align: top;\n",
       "    }\n",
       "\n",
       "    .dataframe thead th {\n",
       "        text-align: right;\n",
       "    }\n",
       "</style>\n",
       "<table border=\"1\" class=\"dataframe\">\n",
       "  <thead>\n",
       "    <tr style=\"text-align: right;\">\n",
       "      <th></th>\n",
       "      <th>date</th>\n",
       "      <th>ferie</th>\n",
       "      <th>fete</th>\n",
       "      <th>greve</th>\n",
       "      <th>vacance</th>\n",
       "      <th>confinement</th>\n",
       "      <th>couvre_feu</th>\n",
       "      <th>nb_validation</th>\n",
       "      <th>num_jour</th>\n",
       "      <th>type_jour</th>\n",
       "      <th>num_mois</th>\n",
       "      <th>type_mois</th>\n",
       "      <th>annee</th>\n",
       "    </tr>\n",
       "  </thead>\n",
       "  <tbody>\n",
       "    <tr>\n",
       "      <th>0</th>\n",
       "      <td>2015-01-01</td>\n",
       "      <td>Jour de l’an</td>\n",
       "      <td>Aucun</td>\n",
       "      <td>Aucun</td>\n",
       "      <td>Noël</td>\n",
       "      <td>Aucun</td>\n",
       "      <td>Aucun</td>\n",
       "      <td>124179</td>\n",
       "      <td>3</td>\n",
       "      <td>Jeudi</td>\n",
       "      <td>1</td>\n",
       "      <td>Janvier</td>\n",
       "      <td>2015</td>\n",
       "    </tr>\n",
       "  </tbody>\n",
       "</table>\n",
       "</div>"
      ],
      "text/plain": [
       "         date         ferie   fete  greve vacance confinement couvre_feu  \\\n",
       "0  2015-01-01  Jour de l’an  Aucun  Aucun    Noël       Aucun      Aucun   \n",
       "\n",
       "   nb_validation  num_jour type_jour  num_mois type_mois  annee  \n",
       "0         124179         3     Jeudi         1   Janvier   2015  "
      ]
     },
     "execution_count": 50,
     "metadata": {},
     "output_type": "execute_result"
    }
   ],
   "source": [
    "df_NBVALD.head(1)"
   ]
  },
  {
   "cell_type": "code",
   "execution_count": 51,
   "id": "30aab2b7",
   "metadata": {},
   "outputs": [],
   "source": [
    "df_typo_jours = df_NBVALD.groupby([\"annee\", \"num_jour\", \"type_jour\"])[\"nb_validation\"].agg('sum')\n",
    "df_typo_jours.to_csv(\"Bases/Base_Type_jours.csv\")"
   ]
  },
  {
   "cell_type": "code",
   "execution_count": 52,
   "id": "af406659",
   "metadata": {},
   "outputs": [
    {
     "data": {
      "text/plain": [
       "annee  num_jour  type_jour\n",
       "2015   0         Lundi        29767839\n",
       "       1         Mardi        33268520\n",
       "       2         Mercredi     33077005\n",
       "       3         Jeudi        33208614\n",
       "       4         Vendredi     32432620\n",
       "Name: nb_validation, dtype: int64"
      ]
     },
     "execution_count": 52,
     "metadata": {},
     "output_type": "execute_result"
    }
   ],
   "source": [
    "df_typo_jours.head()"
   ]
  },
  {
   "cell_type": "code",
   "execution_count": 53,
   "id": "629bfc10",
   "metadata": {},
   "outputs": [],
   "source": [
    "df_typo_mois = df_NBVALD.groupby([\"annee\", \"num_mois\", \"type_mois\"])[\"nb_validation\"].agg('sum')\n",
    "df_typo_mois.to_csv(\"Bases/Base_Type_mois.csv\")"
   ]
  },
  {
   "cell_type": "code",
   "execution_count": 54,
   "id": "385c5211",
   "metadata": {},
   "outputs": [
    {
     "data": {
      "text/plain": [
       "annee  num_mois  type_mois\n",
       "2015   1         Janvier      16392613\n",
       "       2         Février      15030832\n",
       "       3         Mars         16449014\n",
       "       4         Avril        16176669\n",
       "       5         Mai          14746436\n",
       "Name: nb_validation, dtype: int64"
      ]
     },
     "execution_count": 54,
     "metadata": {},
     "output_type": "execute_result"
    }
   ],
   "source": [
    "df_typo_mois.head()"
   ]
  },
  {
   "cell_type": "markdown",
   "id": "dc8dcd9c",
   "metadata": {},
   "source": [
    "*Maintenant que nous avons fait ce travail de préparation de données, on peut s'attaquer au projet !*"
   ]
  },
  {
   "cell_type": "markdown",
   "id": "03467d10",
   "metadata": {},
   "source": [
    "<h2><font color=darkred><center>FIN</center></h2>"
   ]
  }
 ],
 "metadata": {
  "kernelspec": {
   "display_name": "Python 3 (ipykernel)",
   "language": "python",
   "name": "python3"
  },
  "language_info": {
   "codemirror_mode": {
    "name": "ipython",
    "version": 3
   },
   "file_extension": ".py",
   "mimetype": "text/x-python",
   "name": "python",
   "nbconvert_exporter": "python",
   "pygments_lexer": "ipython3",
   "version": "3.9.13"
  }
 },
 "nbformat": 4,
 "nbformat_minor": 5
}
